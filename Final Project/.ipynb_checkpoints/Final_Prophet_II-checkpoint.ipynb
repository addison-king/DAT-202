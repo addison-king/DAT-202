{
 "cells": [
  {
   "cell_type": "code",
   "execution_count": 1,
   "metadata": {},
   "outputs": [],
   "source": [
    "import pandas as pd\n",
    "import numpy as np\n",
    "from math import sqrt\n",
    "from fbprophet import Prophet\n",
    "from matplotlib import pyplot\n",
    "import matplotlib.patches as mpatches\n",
    "from sklearn.metrics import mean_squared_error, mean_absolute_error\n",
    "import locale\n",
    "import datetime\n",
    "\n",
    "ascii_cup =\"\"\"\\\n",
    "    (  )   (   )  )\n",
    "     ) (   )  (  (\n",
    "     ( )  (    ) )\n",
    "     _____________\n",
    "    <_____________> ___\n",
    "    |             |/ _ \\\\\n",
    "    |               | | |\n",
    "    |               |_| |\n",
    " ___|             |\\___/\n",
    "/    \\___________/    \\\\\n",
    "\\_____________________/\n",
    "\"\"\""
   ]
  },
  {
   "cell_type": "code",
   "execution_count": null,
   "metadata": {},
   "outputs": [],
   "source": [
    "df_past = pd.read_csv('Past_Data.csv')\n",
    "df_past = df_past.rename(columns={\"datetime_beginning_ept\": \"ds\", \"wind_generation_mw\": \"y\"})\n",
    "df_past['ds']=pd.to_datetime(df_past['ds'])\n",
    "\n",
    "df_future = pd.read_csv('Actual_data.csv')\n",
    "df_future = df_future.rename(columns={\"datetime_beginning_ept\": \"ds\", \"wind_generation_mw\": \"y\"})\n"
   ]
  }
 ],
 "metadata": {
  "kernelspec": {
   "display_name": "Python 3",
   "language": "python",
   "name": "python3"
  },
  "language_info": {
   "codemirror_mode": {
    "name": "ipython",
    "version": 3
   },
   "file_extension": ".py",
   "mimetype": "text/x-python",
   "name": "python",
   "nbconvert_exporter": "python",
   "pygments_lexer": "ipython3",
   "version": "3.8.5"
  }
 },
 "nbformat": 4,
 "nbformat_minor": 4
}
