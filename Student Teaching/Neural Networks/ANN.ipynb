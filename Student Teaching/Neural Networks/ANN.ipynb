{
 "cells": [
  {
   "cell_type": "markdown",
   "metadata": {
    "id": "Q7cbwb95i8Et"
   },
   "source": [
    "Keras is a higher-level abstraction for the popular neural network library, Tensorflow.\n",
    "\n",
    "https://becominghuman.ai/step-by-step-neural-network-tutorial-for-beginner-cc71a04eedeb\n",
    "\n",
    "Here we will use a dataset called fashion MNIST. Fashion MNIST is a dataset of ten categories of clothing and accessories, in grayscales.\n",
    "\n",
    "The purpose of the tutorial is to accurately assign each item into one of the ten categories."
   ]
  },
  {
   "cell_type": "code",
   "execution_count": 3,
   "metadata": {
    "id": "SdNM_VTavR7J"
   },
   "outputs": [],
   "source": [
    "#setup\n",
    "from tensorflow.keras.datasets import fashion_mnist\n",
    "from tensorflow.keras.models import Sequential\n",
    "from tensorflow.keras.layers import Dense\n",
    "from tensorflow.keras.utils import to_categorical"
   ]
  },
  {
   "cell_type": "markdown",
   "metadata": {
    "id": "13xL7u74vdn5"
   },
   "source": [
    "For our fashion MNIST, let’s just load the data:"
   ]
  },
  {
   "cell_type": "code",
   "execution_count": 4,
   "metadata": {
    "id": "a6tNU-irvZdZ"
   },
   "outputs": [
    {
     "name": "stdout",
     "output_type": "stream",
     "text": [
      "Downloading data from https://storage.googleapis.com/tensorflow/tf-keras-datasets/train-labels-idx1-ubyte.gz\n",
      "32768/29515 [=================================] - 0s 0us/step\n",
      "Downloading data from https://storage.googleapis.com/tensorflow/tf-keras-datasets/train-images-idx3-ubyte.gz\n",
      "26427392/26421880 [==============================] - 0s 0us/step\n",
      "Downloading data from https://storage.googleapis.com/tensorflow/tf-keras-datasets/t10k-labels-idx1-ubyte.gz\n",
      "8192/5148 [===============================================] - 0s 0us/step\n",
      "Downloading data from https://storage.googleapis.com/tensorflow/tf-keras-datasets/t10k-images-idx3-ubyte.gz\n",
      "4423680/4422102 [==============================] - 0s 0us/step\n"
     ]
    }
   ],
   "source": [
    "(x_train, y_train), (x_test, y_test) = fashion_mnist.load_data()"
   ]
  },
  {
   "cell_type": "markdown",
   "metadata": {
    "id": "FyezCj_vkPmT"
   },
   "source": [
    "**Important points:**\n",
    "\n",
    "For every neural network project you will do in the future, these rules always apply.\n",
    "\n",
    "**Start simple:** Use a **single layer** perceptron and evaluate the result. If it is good, then proceed to deployment.\n",
    "\n",
    "If the previous step is not good enough, try to get your network **wider** and/or **deeper**. Add several neurons in your single-layer perceptron. Or, add one layer into the existing network. Evaluate and, if it is good, proceed to deployment. If not, then iterate by adding more neurons or layers.\n",
    "\n",
    "When, after adding several more layers into your network, but the results are still not good, then maybe you need to **change your network architecture**. Use Convolutional Neural Network (CNN) for images or Recurring Neural Network for time-series and texts.\n",
    "Follow those three steps, and you will get your results better.\n",
    "\n",
    "The data provided by Keras is already split between the training and testing sets, **with 60K for training and 10k for testing**. For the **validation**, let’s **take 10% of the training data**.\n",
    "So, it will be 54K images for training, 6K images for validation, and 10K images for testing."
   ]
  },
  {
   "cell_type": "markdown",
   "metadata": {
    "id": "lXPYmrGZlZJT"
   },
   "source": [
    "Our image is 28x28, and therefore is two-dimensional. Because of our perceptron only able to read one-dimensional data, let’s **flatten** them:"
   ]
  },
  {
   "cell_type": "code",
   "execution_count": 5,
   "metadata": {
    "colab": {
     "base_uri": "https://localhost:8080/",
     "height": 50
    },
    "id": "0OrHkIWqvryc",
    "outputId": "bcc2e44f-43cc-455a-b22a-2350b390a6e9"
   },
   "outputs": [
    {
     "name": "stdout",
     "output_type": "stream",
     "text": [
      "(60000, 784)\n",
      "(10000, 784)\n"
     ]
    }
   ],
   "source": [
    "x_train = x_train.reshape(x_train.shape[0], -1) / 255.0\n",
    "x_test = x_test.reshape(x_test.shape[0], -1) / 255.0\n",
    "y_train = to_categorical(y_train)\n",
    "y_test = to_categorical(y_test)\n",
    "print(x_train.shape)\n",
    "print(x_test.shape)\n"
   ]
  },
  {
   "cell_type": "markdown",
   "metadata": {
    "id": "--ct0IyRmtOP"
   },
   "source": [
    "Your training data x_train is transformed from 60,000 x 28 x 28 to **60,000 x 784**. Your testing data x_test follows suit, from 10,000 x 28 x 28 to **10,000 x 784**.\n",
    "\n",
    "For the hidden layer, let’s set an arbitrary number of neurons, Let’s choose 10 neurons.\n",
    "While for the output layer, because we have ten categories to categorize, we need to set it to 10 output neurons. For each image, each of these neurons will be filled with 1 if it is the correct category and 0 if not.\n",
    "\n",
    "In an example, if you have a Sandal image, then the output layer should have something like this [0 0 0 0 0 1 0 0 0 0]"
   ]
  },
  {
   "cell_type": "code",
   "execution_count": 6,
   "metadata": {
    "id": "p9XaWpaZv0ZJ"
   },
   "outputs": [],
   "source": [
    "model = Sequential()\n",
    "model.add(Dense(10, input_dim=784, activation='relu'))\n",
    "model.add(Dense(10, activation='softmax'))\n",
    "model.compile(loss='categorical_crossentropy', optimizer='adam', metrics=['accuracy'])"
   ]
  },
  {
   "cell_type": "markdown",
   "metadata": {
    "id": "urRL0FIyr93k"
   },
   "source": [
    "The **Sequential model** is the easiest model Keras has. The first line of model.**add method** is adding your **hidden layer** with 10 cells, coming from 784 input cells.\n",
    "The second add method is adding your **output layer** to the network,This has 10 cells .\n",
    "\n",
    "You need to follow these tips:\n",
    "\n",
    "**Use Relu whenever possible, on every hidden layer.**\n",
    "\n",
    "**Use Softmax on output layers with more than two categories to be predicted.**\n",
    "\n",
    "**Use Sigmoid on an output layer with two categories.**\n",
    "\n",
    "After creating your model, call **compile method** to finish your model. It usually takes three parameters. (Always use categorical_crossentropy for multi-categories, and binary_crossentropy for two categories. Use adam or rmsprop as the optimizer since both of them are pretty good.) And you need accuracy as the metric to check your network performance."
   ]
  },
  {
   "cell_type": "markdown",
   "metadata": {
    "id": "3ANLPw80swQd"
   },
   "source": [
    "**Let’s train**:\n",
    "\n",
    "we will use 10% of the training data as the validation data, hence **validation_spli**t was set to 0.1.\n",
    "\n",
    "**epochs** is the number of training loops we will do. One epoch will expose all of our training data once to the network.\n",
    "\n",
    " More epochs means the network will know better about our data."
   ]
  },
  {
   "cell_type": "code",
   "execution_count": 7,
   "metadata": {
    "colab": {
     "base_uri": "https://localhost:8080/",
     "height": 368
    },
    "id": "hgrhDLbEv3rr",
    "outputId": "5d5b6a7c-1d48-42ec-94f6-e323b8e6ac12"
   },
   "outputs": [
    {
     "name": "stdout",
     "output_type": "stream",
     "text": [
      "Epoch 1/10\n",
      "1688/1688 [==============================] - 1s 587us/step - loss: 0.6808 - accuracy: 0.7696 - val_loss: 0.4891 - val_accuracy: 0.8345\n",
      "Epoch 2/10\n",
      "1688/1688 [==============================] - 1s 532us/step - loss: 0.4694 - accuracy: 0.8377 - val_loss: 0.4589 - val_accuracy: 0.8398\n",
      "Epoch 3/10\n",
      "1688/1688 [==============================] - 1s 527us/step - loss: 0.4395 - accuracy: 0.8492 - val_loss: 0.4531 - val_accuracy: 0.8418\n",
      "Epoch 4/10\n",
      "1688/1688 [==============================] - 1s 519us/step - loss: 0.4204 - accuracy: 0.8554 - val_loss: 0.4171 - val_accuracy: 0.8555\n",
      "Epoch 5/10\n",
      "1688/1688 [==============================] - 1s 534us/step - loss: 0.4104 - accuracy: 0.8572 - val_loss: 0.4155 - val_accuracy: 0.8528\n",
      "Epoch 6/10\n",
      "1688/1688 [==============================] - 1s 527us/step - loss: 0.4032 - accuracy: 0.8596 - val_loss: 0.4018 - val_accuracy: 0.8595\n",
      "Epoch 7/10\n",
      "1688/1688 [==============================] - 1s 518us/step - loss: 0.3957 - accuracy: 0.8623 - val_loss: 0.4172 - val_accuracy: 0.8525\n",
      "Epoch 8/10\n",
      "1688/1688 [==============================] - 1s 534us/step - loss: 0.3911 - accuracy: 0.8630 - val_loss: 0.4146 - val_accuracy: 0.8563\n",
      "Epoch 9/10\n",
      "1688/1688 [==============================] - 1s 530us/step - loss: 0.3849 - accuracy: 0.8656 - val_loss: 0.4404 - val_accuracy: 0.8472\n",
      "Epoch 10/10\n",
      "1688/1688 [==============================] - 1s 514us/step - loss: 0.3835 - accuracy: 0.8648 - val_loss: 0.4167 - val_accuracy: 0.8542\n"
     ]
    },
    {
     "data": {
      "text/plain": [
       "<tensorflow.python.keras.callbacks.History at 0x23d1ef09888>"
      ]
     },
     "execution_count": 7,
     "metadata": {},
     "output_type": "execute_result"
    }
   ],
   "source": [
    "model.fit(x_train, y_train, epochs=10, validation_split=0.1)"
   ]
  },
  {
   "cell_type": "markdown",
   "metadata": {
    "id": "lfbjmYY70OhZ"
   },
   "source": [
    "Pretty good. You get **85% accuracy** on validation data.\n"
   ]
  },
  {
   "cell_type": "code",
   "execution_count": 8,
   "metadata": {
    "colab": {
     "base_uri": "https://localhost:8080/",
     "height": 50
    },
    "id": "Yu8gFQLf0YjK",
    "outputId": "562d7fa4-8f02-4846-c207-b795fe2635df"
   },
   "outputs": [
    {
     "name": "stdout",
     "output_type": "stream",
     "text": [
      "  1/313 [..............................] - ETA: 0s - loss: 0.3184 - accuracy: 0.8750WARNING:tensorflow:Callbacks method `on_test_batch_end` is slow compared to the batch time (batch time: 0.0000s vs `on_test_batch_end` time: 0.0010s). Check your callbacks.\n",
      "313/313 [==============================] - 0s 352us/step - loss: 0.4440 - accuracy: 0.8438\n",
      "0.8438000082969666\n"
     ]
    }
   ],
   "source": [
    "_, test_acc = model.evaluate(x_test, y_test)\n",
    "print(test_acc)"
   ]
  },
  {
   "cell_type": "markdown",
   "metadata": {
    "id": "EXDYW_7e0aRW"
   },
   "source": [
    "And you will get around **84% accuracy on test data**. Good enough for this simple architecture.\n",
    "\n",
    "This is a metric to measure how good the performance of your network is. 84% accuracy on test data means the network guessed right for around 8400 images from the 10K test data.\n",
    "\n",
    "A higher accuracy on test data means a better network. If you think the accuracy should be higher, maybe you need the next step(s) in building your Neural Network.\n",
    "\n",
    "**Make the network wider**: \n",
    "\n",
    "increase the number of hidden layers."
   ]
  },
  {
   "cell_type": "code",
   "execution_count": 9,
   "metadata": {
    "id": "6NibDfdS0-hZ"
   },
   "outputs": [
    {
     "name": "stdout",
     "output_type": "stream",
     "text": [
      "Epoch 1/10\n",
      "1688/1688 [==============================] - 1s 641us/step - loss: 0.5379 - accuracy: 0.8151 - val_loss: 0.4125 - val_accuracy: 0.8522\n",
      "Epoch 2/10\n",
      "1688/1688 [==============================] - 1s 603us/step - loss: 0.4087 - accuracy: 0.8564 - val_loss: 0.4065 - val_accuracy: 0.8523\n",
      "Epoch 3/10\n",
      "1688/1688 [==============================] - 1s 604us/step - loss: 0.3718 - accuracy: 0.8674 - val_loss: 0.3931 - val_accuracy: 0.8620\n",
      "Epoch 4/10\n",
      "1688/1688 [==============================] - 1s 591us/step - loss: 0.3469 - accuracy: 0.8750 - val_loss: 0.3724 - val_accuracy: 0.8700\n",
      "Epoch 5/10\n",
      "1688/1688 [==============================] - 1s 602us/step - loss: 0.3285 - accuracy: 0.8814 - val_loss: 0.3518 - val_accuracy: 0.8705\n",
      "Epoch 6/10\n",
      "1688/1688 [==============================] - 1s 600us/step - loss: 0.3152 - accuracy: 0.8852 - val_loss: 0.3398 - val_accuracy: 0.8757\n",
      "Epoch 7/10\n",
      "1688/1688 [==============================] - 1s 596us/step - loss: 0.3040 - accuracy: 0.8892 - val_loss: 0.3412 - val_accuracy: 0.8760\n",
      "Epoch 8/10\n",
      "1688/1688 [==============================] - 1s 616us/step - loss: 0.2931 - accuracy: 0.8927 - val_loss: 0.3384 - val_accuracy: 0.8768\n",
      "Epoch 9/10\n",
      "1688/1688 [==============================] - 1s 603us/step - loss: 0.2850 - accuracy: 0.8949 - val_loss: 0.3428 - val_accuracy: 0.8802\n",
      "Epoch 10/10\n",
      "1688/1688 [==============================] - 1s 600us/step - loss: 0.2762 - accuracy: 0.8982 - val_loss: 0.3513 - val_accuracy: 0.8803\n"
     ]
    },
    {
     "data": {
      "text/plain": [
       "<tensorflow.python.keras.callbacks.History at 0x23d2039dd48>"
      ]
     },
     "execution_count": 9,
     "metadata": {},
     "output_type": "execute_result"
    }
   ],
   "source": [
    "model2 = Sequential()\n",
    "model2.add(Dense(50, input_dim=784, activation='relu'))\n",
    "model2.add(Dense(10, activation='softmax'))\n",
    "\n",
    "model2.compile(loss='categorical_crossentropy', optimizer='adam', metrics=['accuracy'])\n",
    "model2.fit(x_train, y_train, epochs=10, validation_split=0.1)"
   ]
  },
  {
   "cell_type": "code",
   "execution_count": 10,
   "metadata": {
    "colab": {
     "base_uri": "https://localhost:8080/",
     "height": 50
    },
    "id": "lJpKOA6C1GJy",
    "outputId": "f9b0f469-d18e-44b3-b04c-5ea5287c98ae"
   },
   "outputs": [
    {
     "name": "stdout",
     "output_type": "stream",
     "text": [
      "313/313 [==============================] - 0s 374us/step - loss: 0.3612 - accuracy: 0.8745\n",
      "0.8744999766349792\n"
     ]
    }
   ],
   "source": [
    "_, test_acc = model2.evaluate(x_test, y_test)\n",
    "print(test_acc)"
   ]
  },
  {
   "cell_type": "markdown",
   "metadata": {
    "id": "w6Rnksjd1Ymp"
   },
   "source": [
    "**Create a deeper network:**\n",
    "\n",
    "Let’s add one more hidden layer with 50 cells."
   ]
  },
  {
   "cell_type": "code",
   "execution_count": 11,
   "metadata": {
    "colab": {
     "base_uri": "https://localhost:8080/",
     "height": 368
    },
    "id": "u2aMnV6A1kUM",
    "outputId": "35b904d2-7eab-40bd-9d9a-4f17970b82c4"
   },
   "outputs": [
    {
     "name": "stdout",
     "output_type": "stream",
     "text": [
      "Epoch 1/10\n",
      "1688/1688 [==============================] - 1s 677us/step - loss: 0.5355 - accuracy: 0.8118 - val_loss: 0.4335 - val_accuracy: 0.8487\n",
      "Epoch 2/10\n",
      "1688/1688 [==============================] - 1s 651us/step - loss: 0.3941 - accuracy: 0.8576 - val_loss: 0.3812 - val_accuracy: 0.8628\n",
      "Epoch 3/10\n",
      "1688/1688 [==============================] - 1s 649us/step - loss: 0.3571 - accuracy: 0.8698 - val_loss: 0.3617 - val_accuracy: 0.8673\n",
      "Epoch 4/10\n",
      "1688/1688 [==============================] - 1s 651us/step - loss: 0.3323 - accuracy: 0.8782 - val_loss: 0.3574 - val_accuracy: 0.8702\n",
      "Epoch 5/10\n",
      "1688/1688 [==============================] - 1s 649us/step - loss: 0.3172 - accuracy: 0.8835 - val_loss: 0.3854 - val_accuracy: 0.8590\n",
      "Epoch 6/10\n",
      "1688/1688 [==============================] - 1s 643us/step - loss: 0.3019 - accuracy: 0.8889 - val_loss: 0.3455 - val_accuracy: 0.8782\n",
      "Epoch 7/10\n",
      "1688/1688 [==============================] - 1s 651us/step - loss: 0.2898 - accuracy: 0.8929 - val_loss: 0.3376 - val_accuracy: 0.8780\n",
      "Epoch 8/10\n",
      "1688/1688 [==============================] - 1s 649us/step - loss: 0.2795 - accuracy: 0.8963 - val_loss: 0.3468 - val_accuracy: 0.8795\n",
      "Epoch 9/10\n",
      "1688/1688 [==============================] - 1s 654us/step - loss: 0.2708 - accuracy: 0.8991 - val_loss: 0.3255 - val_accuracy: 0.8813\n",
      "Epoch 10/10\n",
      "1688/1688 [==============================] - 1s 659us/step - loss: 0.2614 - accuracy: 0.9030 - val_loss: 0.3275 - val_accuracy: 0.8837\n"
     ]
    },
    {
     "data": {
      "text/plain": [
       "<tensorflow.python.keras.callbacks.History at 0x23d20368748>"
      ]
     },
     "execution_count": 11,
     "metadata": {},
     "output_type": "execute_result"
    }
   ],
   "source": [
    "model3 = Sequential()\n",
    "model3.add(Dense(50, input_dim=784, activation='relu'))\n",
    "model3.add(Dense(50, activation='relu'))\n",
    "model3.add(Dense(10, activation='softmax'))\n",
    "\n",
    "model3.compile(loss='categorical_crossentropy', optimizer='adam', metrics=['accuracy'])\n",
    "model3.fit(x_train, y_train, epochs=10, validation_split=0.1)"
   ]
  },
  {
   "cell_type": "code",
   "execution_count": 12,
   "metadata": {
    "colab": {
     "base_uri": "https://localhost:8080/",
     "height": 50
    },
    "id": "azolXlZd1oqj",
    "outputId": "11c3a36b-25ba-465c-b31d-e73859120d59"
   },
   "outputs": [
    {
     "name": "stdout",
     "output_type": "stream",
     "text": [
      "313/313 [==============================] - 0s 406us/step - loss: 0.3435 - accuracy: 0.8800\n",
      "0.8799999952316284\n"
     ]
    }
   ],
   "source": [
    "_, test_acc = model3.evaluate(x_test, y_test)\n",
    "print(test_acc)"
   ]
  },
  {
   "cell_type": "markdown",
   "metadata": {
    "id": "ia6Lgh3y12QK"
   },
   "source": [
    "Maybe our approach is not right by using perceptron on images. How about we change it into:\n",
    "\n",
    "**Convolutional neural network\n",
    "!**\n",
    "\n",
    "**HomeWork:**\n",
    "\n",
    "\n",
    "\n",
    "\n",
    "you can try using Convolutional neural network on this network to see the result."
   ]
  },
  {
   "cell_type": "markdown",
   "metadata": {},
   "source": [
    "# My HW Attempt\n"
   ]
  },
  {
   "cell_type": "code",
   "execution_count": 13,
   "metadata": {},
   "outputs": [],
   "source": [
    "from tensorflow.keras.layers import Conv2D, MaxPooling2D, Flatten\n",
    "import numpy as np\n",
    "(x_train, y_train), (x_test, y_test) = fashion_mnist.load_data()\n",
    "x_train = x_train[:,:,:,np.newaxis] / 255.0\n",
    "x_test = x_test[:,:,:,np.newaxis] / 255.0\n",
    "y_train = to_categorical(y_train)\n",
    "y_test = to_categorical(y_test)"
   ]
  },
  {
   "cell_type": "code",
   "execution_count": 14,
   "metadata": {},
   "outputs": [],
   "source": [
    "model4 = Sequential()\n",
    "model4.add(Conv2D(filters=64, kernel_size=2, padding='same', activation='relu', input_shape=(28,28, 1))) \n",
    "model4.add(MaxPooling2D(pool_size=2))\n",
    "model4.add(Flatten())\n",
    "model4.add(Dense(10, activation='softmax'))\n",
    "model4.compile(loss='categorical_crossentropy', optimizer='adam', metrics=['accuracy'])\n"
   ]
  },
  {
   "cell_type": "code",
   "execution_count": 15,
   "metadata": {},
   "outputs": [
    {
     "name": "stdout",
     "output_type": "stream",
     "text": [
      "Model: \"sequential_3\"\n",
      "_________________________________________________________________\n",
      "Layer (type)                 Output Shape              Param #   \n",
      "=================================================================\n",
      "conv2d (Conv2D)              (None, 28, 28, 64)        320       \n",
      "_________________________________________________________________\n",
      "max_pooling2d (MaxPooling2D) (None, 14, 14, 64)        0         \n",
      "_________________________________________________________________\n",
      "flatten (Flatten)            (None, 12544)             0         \n",
      "_________________________________________________________________\n",
      "dense_7 (Dense)              (None, 10)                125450    \n",
      "=================================================================\n",
      "Total params: 125,770\n",
      "Trainable params: 125,770\n",
      "Non-trainable params: 0\n",
      "_________________________________________________________________\n"
     ]
    }
   ],
   "source": [
    "model4.summary()"
   ]
  },
  {
   "cell_type": "code",
   "execution_count": 16,
   "metadata": {},
   "outputs": [
    {
     "name": "stdout",
     "output_type": "stream",
     "text": [
      "Epoch 1/10\n",
      "1688/1688 [==============================] - 18s 11ms/step - loss: 0.4367 - accuracy: 0.8469 - val_loss: 0.3488 - val_accuracy: 0.8723\n",
      "Epoch 2/10\n",
      "1688/1688 [==============================] - 18s 11ms/step - loss: 0.3115 - accuracy: 0.8902 - val_loss: 0.2949 - val_accuracy: 0.8968\n",
      "Epoch 3/10\n",
      "1688/1688 [==============================] - 18s 11ms/step - loss: 0.2761 - accuracy: 0.9025 - val_loss: 0.2853 - val_accuracy: 0.8982\n",
      "Epoch 4/10\n",
      "1688/1688 [==============================] - 18s 11ms/step - loss: 0.2547 - accuracy: 0.9097 - val_loss: 0.2824 - val_accuracy: 0.9017\n",
      "Epoch 5/10\n",
      "1688/1688 [==============================] - 18s 11ms/step - loss: 0.2372 - accuracy: 0.9161 - val_loss: 0.2753 - val_accuracy: 0.8993\n",
      "Epoch 6/10\n",
      "1688/1688 [==============================] - 18s 11ms/step - loss: 0.2240 - accuracy: 0.9201 - val_loss: 0.2783 - val_accuracy: 0.8988\n",
      "Epoch 7/10\n",
      "1688/1688 [==============================] - 18s 11ms/step - loss: 0.2110 - accuracy: 0.9244 - val_loss: 0.2974 - val_accuracy: 0.8938\n",
      "Epoch 8/10\n",
      "1688/1688 [==============================] - 18s 11ms/step - loss: 0.2024 - accuracy: 0.9274 - val_loss: 0.2754 - val_accuracy: 0.9067\n",
      "Epoch 9/10\n",
      "1688/1688 [==============================] - 18s 11ms/step - loss: 0.1912 - accuracy: 0.9313 - val_loss: 0.2814 - val_accuracy: 0.9027\n",
      "Epoch 10/10\n",
      "1688/1688 [==============================] - 18s 11ms/step - loss: 0.1845 - accuracy: 0.9343 - val_loss: 0.2759 - val_accuracy: 0.9027\n"
     ]
    },
    {
     "data": {
      "text/plain": [
       "<tensorflow.python.keras.callbacks.History at 0x23d21541ac8>"
      ]
     },
     "execution_count": 16,
     "metadata": {},
     "output_type": "execute_result"
    }
   ],
   "source": [
    "model4.fit(x_train, y_train, epochs=10, validation_split=0.1)"
   ]
  },
  {
   "cell_type": "code",
   "execution_count": 17,
   "metadata": {},
   "outputs": [
    {
     "name": "stdout",
     "output_type": "stream",
     "text": [
      "313/313 [==============================] - 1s 4ms/step - loss: 0.2898 - accuracy: 0.9031\n",
      "0.9031000137329102\n"
     ]
    }
   ],
   "source": [
    "_, test_acc = model4.evaluate(x_test, y_test)\n",
    "print(test_acc)"
   ]
  },
  {
   "cell_type": "code",
   "execution_count": null,
   "metadata": {},
   "outputs": [],
   "source": []
  }
 ],
 "metadata": {
  "colab": {
   "collapsed_sections": [],
   "name": "Untitled4.ipynb",
   "provenance": []
  },
  "kernelspec": {
   "display_name": "Python 3",
   "language": "python",
   "name": "python3"
  },
  "language_info": {
   "codemirror_mode": {
    "name": "ipython",
    "version": 3
   },
   "file_extension": ".py",
   "mimetype": "text/x-python",
   "name": "python",
   "nbconvert_exporter": "python",
   "pygments_lexer": "ipython3",
   "version": "3.7.6"
  }
 },
 "nbformat": 4,
 "nbformat_minor": 1
}
